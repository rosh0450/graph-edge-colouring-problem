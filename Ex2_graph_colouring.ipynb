{
 "cells": [
  {
   "cell_type": "code",
   "execution_count": 1,
   "metadata": {},
   "outputs": [
    {
     "name": "stdout",
     "output_type": "stream",
     "text": [
      "Color assigned to vertex 0 is BLUE\n",
      "Color assigned to vertex 1 is GREEN\n",
      "Color assigned to vertex 2 is BLUE\n",
      "Color assigned to vertex 3 is RED\n",
      "Color assigned to vertex 4 is RED\n",
      "Color assigned to vertex 5 is GREEN\n"
     ]
    }
   ],
   "source": [
    "class Graph:\n",
    " \n",
    "    def __init__(self, edges, N):\n",
    " \n",
    "        self.adj = [[] for _ in range(N)]\n",
    " \n",
    "        for (src, dest) in edges:\n",
    "            self.adj[src].append(dest)\n",
    "            self.adj[dest].append(src)\n",
    " \n",
    " \n",
    "def colorGraph(graph):\n",
    " \n",
    "    result = {}\n",
    " \n",
    "    for u in range(N):\n",
    " \n",
    "        assigned = set([result.get(i) for i in graph.adj[u] if i in result])\n",
    " \n",
    "        color = 1\n",
    "        for c in assigned:\n",
    "            if color != c:\n",
    "                break\n",
    "            color = color + 1\n",
    " \n",
    "        result[u] = color\n",
    " \n",
    "    for v in range(N):\n",
    "        print(\"Color assigned to vertex\", v, \"is\", colors[result[v]])\n",
    " \n",
    " \n",
    "if __name__ == '__main__':\n",
    " \n",
    "    colors = [\"\", \"BLUE\", \"GREEN\", \"RED\", \"YELLOW\", \"ORANGE\", \"PINK\",\n",
    "              \"BLACK\", \"BROWN\", \"WHITE\", \"PURPLE\", \"VOILET\"]\n",
    " \n",
    "    edges = [(0, 1), (0, 4), (0, 5), (4, 5), (1, 4), (1, 3), (2, 3), (2, 4)]\n",
    " \n",
    "    N = 6\n",
    " \n",
    "    graph = Graph(edges, N)\n",
    " \n",
    "    colorGraph(graph)"
   ]
  },
  {
   "cell_type": "code",
   "execution_count": null,
   "metadata": {},
   "outputs": [],
   "source": []
  }
 ],
 "metadata": {
  "kernelspec": {
   "display_name": "Python 3",
   "language": "python",
   "name": "python3"
  },
  "language_info": {
   "codemirror_mode": {
    "name": "ipython",
    "version": 3
   },
   "file_extension": ".py",
   "mimetype": "text/x-python",
   "name": "python",
   "nbconvert_exporter": "python",
   "pygments_lexer": "ipython3",
   "version": "3.8.3"
  }
 },
 "nbformat": 4,
 "nbformat_minor": 4
}
